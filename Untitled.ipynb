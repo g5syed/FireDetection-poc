{
 "cells": [
  {
   "cell_type": "code",
   "execution_count": 7,
   "metadata": {},
   "outputs": [],
   "source": [
    "import cv2  # used to grayscale and resize images\n",
    "import numpy as np  # dealing with arrays\n",
    "import os  # deal with directories\n",
    "from random import shuffle  # mixing up our currently ordered data that might lead our network astray in training\n",
    "from tqdm import tqdm  # a nice pretty percentage bar for tasks.\n",
    "\n",
    "# import the model from sklearn\n",
    "from sklearn.linear_model import LogisticRegression\n",
    "\n",
    "import matplotlib.pyplot as plt\n",
    "import seaborn as sns\n",
    "from sklearn import metrics\n"
   ]
  },
  {
   "cell_type": "code",
   "execution_count": 8,
   "metadata": {},
   "outputs": [
    {
     "name": "stderr",
     "output_type": "stream",
     "text": [
      "100%|██████████| 200/200 [00:00<00:00, 253.10it/s]\n",
      "/home/sayyed/miniconda3/lib/python3.8/site-packages/numpy/core/_asarray.py:136: VisibleDeprecationWarning: Creating an ndarray from ragged nested sequences (which is a list-or-tuple of lists-or-tuples-or ndarrays with different lengths or shapes) is deprecated. If you meant to do this, you must specify 'dtype=object' when creating the ndarray\n",
      "  return array(a, dtype, copy=False, order=order, subok=True)\n"
     ]
    }
   ],
   "source": [
    "\n",
    "TRAIN_DIR = 'data/train'\n",
    "IMG_SIZE = 50\n",
    "\n",
    "\n",
    "def label_img(img):\n",
    "    word_label = img.split('_')[0]\n",
    "    # conversion to binary array [fire,no_fire]\n",
    "    if word_label == 'fire':\n",
    "        return [1, 0]\n",
    "    elif word_label == 'no fire':\n",
    "        return [0, 1]\n",
    "    else:\n",
    "        print('error')\n",
    "\n",
    "\n",
    "def create_train_data():\n",
    "    training_data = []\n",
    "    for img in tqdm(os.listdir(TRAIN_DIR)):\n",
    "        label = label_img(img)\n",
    "        path = os.path.join(TRAIN_DIR, img)\n",
    "        img = cv2.imread(path, cv2.IMREAD_GRAYSCALE)\n",
    "        # print(path, '/t/t', img.shape)\n",
    "        img = cv2.resize(img, (IMG_SIZE, IMG_SIZE))\n",
    "        training_data.append([np.array(img), np.array(label)])\n",
    "        cv2.waitKey(1)\n",
    "    shuffle(training_data)\n",
    "    np.save('train_data.npy', training_data)\n",
    "    return training_data\n",
    "\n",
    "\n",
    "train_data = create_train_data()\n",
    "\n",
    "\n",
    "# Split training and testing data\n",
    "train = train_data[:100]\n",
    "test = train_data[100:]\n",
    "\n",
    "\n",
    "def reshape_response(Y):\n",
    "    train_Y = []\n",
    "    for i in Y:\n",
    "        if i[0] == 1 and i[1] == 0:\n",
    "            train_Y.append(1)\n",
    "        else:\n",
    "            train_Y.append(0)\n",
    "    n = len(train_Y)\n",
    "    train_Y = np.array(train_Y).reshape((n, 1))\n",
    "    return train_Y\n",
    "\n",
    "\n",
    "def flatten_features(X):\n",
    "    container = []\n",
    "    m, n, p, q = np.shape(X)\n",
    "    for i in range(0, m):\n",
    "        temp = X[i].flatten()\n",
    "        container.append(temp)\n",
    "    flat_array = np.vstack(container)\n",
    "    return flat_array\n",
    "\n",
    "\n",
    "# Create data arrays, split into feature and response\n",
    "trainX = np.array([i[0] for i in train]).reshape(-1, IMG_SIZE, IMG_SIZE, 1)\n",
    "trainX = flatten_features(trainX)\n",
    "trainY = [i[1] for i in train]\n",
    "trainY = reshape_response(trainY)\n",
    "\n",
    "testX = np.array([i[0] for i in test]).reshape(-1, IMG_SIZE, IMG_SIZE, 1)\n",
    "testX = flatten_features(testX)\n",
    "testY = [i[1] for i in test]\n",
    "testY = reshape_response(testY)\n"
   ]
  },
  {
   "cell_type": "code",
   "execution_count": 11,
   "metadata": {},
   "outputs": [
    {
     "name": "stdout",
     "output_type": "stream",
     "text": [
      "Accuracy :  0.63\n"
     ]
    },
    {
     "name": "stderr",
     "output_type": "stream",
     "text": [
      "/home/sayyed/miniconda3/lib/python3.8/site-packages/sklearn/linear_model/_logistic.py:762: ConvergenceWarning: lbfgs failed to converge (status=1):\n",
      "STOP: TOTAL NO. of ITERATIONS REACHED LIMIT.\n",
      "\n",
      "Increase the number of iterations (max_iter) or scale the data as shown in:\n",
      "    https://scikit-learn.org/stable/modules/preprocessing.html\n",
      "Please also refer to the documentation for alternative solver options:\n",
      "    https://scikit-learn.org/stable/modules/linear_model.html#logistic-regression\n",
      "  n_iter_i = _check_optimize_result(\n"
     ]
    }
   ],
   "source": [
    "# Make an instance of the model\n",
    "logreg = LogisticRegression()\n",
    "# Fit a model on the training data\n",
    "logreg.fit(trainX, trainY.ravel())\n",
    "\n",
    "# Predict labels for the new data\n",
    "predictions = logreg.predict(testX)\n",
    "\n",
    "# Measure Model Performance: accuracy score\n",
    "score = logreg.score(testX, testY)\n",
    "print('Accuracy : ',score)"
   ]
  },
  {
   "cell_type": "code",
   "execution_count": 10,
   "metadata": {},
   "outputs": [
    {
     "name": "stdout",
     "output_type": "stream",
     "text": [
      "[[25 24]\n",
      " [13 38]]\n"
     ]
    },
    {
     "data": {
      "text/plain": [
       "Text(0.5, 1.0, 'Accuracy Score: 0.63')"
      ]
     },
     "execution_count": 10,
     "metadata": {},
     "output_type": "execute_result"
    },
    {
     "data": {
      "image/png": "[encoded data removed]",
      "text/plain": [
       "<Figure size 144x144 with 2 Axes>"
      ]
     },
     "metadata": {
      "needs_background": "light"
     },
     "output_type": "display_data"
    }
   ],
   "source": [
    "#Confusion Matrix\n",
    "cm = metrics.confusion_matrix(testY, predictions)\n",
    "print(cm)\n",
    "\n",
    "plt.figure(figsize=(2,2))\n",
    "sns.heatmap(cm, annot=True, fmt=\".3f\", linewidths=.5, cmap= 'Blues_r')\n",
    "plt.ylabel('Actual Label')\n",
    "plt.xlabel('Predicted Label')\n",
    "all_sample_title = 'Accuracy Score: {0}'.format(score)\n",
    "plt.title(all_sample_title, size = 15)\n"
   ]
  },
  {
   "cell_type": "code",
   "execution_count": null,
   "metadata": {},
   "outputs": [],
   "source": []
  }
 ],
 "metadata": {
  "kernelspec": {
   "display_name": "Python 3",
   "language": "python",
   "name": "python3"
  },
  "language_info": {
   "codemirror_mode": {
    "name": "ipython",
    "version": 3
   },
   "file_extension": ".py",
   "mimetype": "text/x-python",
   "name": "python",
   "nbconvert_exporter": "python",
   "pygments_lexer": "ipython3",
   "version": "3.8.6"
  }
 },
 "nbformat": 4,
 "nbformat_minor": 4
}
